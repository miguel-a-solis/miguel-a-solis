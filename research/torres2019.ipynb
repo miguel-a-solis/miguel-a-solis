{
 "cells": [
  {
   "cell_type": "markdown",
   "metadata": {},
   "source": [
    "**Multi-period decision making applied to cryptocurrency investment scenario**\n",
    "*(in review)*\n",
    "\n",
    "*R.Torres, M.A.Solis, R.Salas, A.F.Bariviera*"
   ]
  },
  {
   "cell_type": "markdown",
   "metadata": {},
   "source": [
    "*Execution of i-th cell requires execution of previous one, except for cells labeled as \"(optional, not in article)\"*\n",
    "\n",
    "**move dataset files into folder \"datasets\" (create it in the same location as this python notebook)**"
   ]
  },
  {
   "cell_type": "markdown",
   "metadata": {},
   "source": [
    "**Parameters**"
   ]
  },
  {
   "cell_type": "code",
   "execution_count": 1,
   "metadata": {},
   "outputs": [],
   "source": [
    "n_all = 68 # total number of cryptos considered with data available\n",
    "time_horizon = 88 # number of days for generating figure data\n",
    "time_horizon_tables = 5 # number of days for showing tables\n",
    "attr_labels = [\"benefit\", \"benefit\", \"benefit\"]\n",
    "n_attributes = len(attr_labels) # day-profitability, day-variability and (log of) market capitalization\n",
    "linguistic_var_number = 5"
   ]
  },
  {
   "cell_type": "markdown",
   "metadata": {},
   "source": [
    "**Useful functions** - Appropriate functions to be applied on the case of study"
   ]
  },
  {
   "cell_type": "code",
   "execution_count": 2,
   "metadata": {},
   "outputs": [],
   "source": [
    "%matplotlib inline\n",
    "import numpy as np\n",
    "import matplotlib\n",
    "matplotlib.use('Agg')\n",
    "import matplotlib.pyplot as plt\n",
    "import sys\n",
    "import random\n",
    "from math import exp,log\n",
    "\n",
    "def normalization(attr_values, attr_labels, T = time_horizon):\n",
    "    normal = {}\n",
    "    factors = {}\n",
    "    for t in range(T):\n",
    "        factors[t] = []\n",
    "        for a in range(len(attr_labels)):\n",
    "            attributes = []\n",
    "            for abbreviation in attr_values.keys():\n",
    "                attributes.append(attr_values[abbreviation][t][a])\n",
    "            if attr_labels[a] == \"benefit\":\n",
    "                factors[t].append(max(attributes))\n",
    "            else:\n",
    "                factors[t].append(min(attributes))\n",
    "    for abbreviation in attr_values.keys():\n",
    "        normal[abbreviation] = {}\n",
    "        for t in range(T):\n",
    "            normal[abbreviation][t] = []\n",
    "            for a in range(len(attr_labels)):\n",
    "                if attr_labels[a] == \"benefit\":\n",
    "                    normal[abbreviation][t].append(round(attr_values[abbreviation][t][a]/factors[t][a],2))\n",
    "                else:\n",
    "                    normal[abbreviation][t].append(round(factors[t][a]/(attr_values[abbreviation][t][a]+1e-9),2))\n",
    "    return normal\n",
    "\n",
    "def linguistic_values(values,n_vl):\n",
    "    n_att = len(values.keys())\n",
    "    delta = int(100/(n_vl -1))\n",
    "    p = range(0,101,delta)\n",
    "    prc = []\n",
    "    for i in range(n_att):\n",
    "        aux = list(values[i])\n",
    "        aux.sort()\n",
    "        prc.append(list(np.percentile(aux,p)))\n",
    "    LV = []\n",
    "    for i in range(n_att):\n",
    "        LV.append([])\n",
    "        LV[-1].append([prc[i][0],prc[i][0],prc[i][1]])\n",
    "        for j in range(linguistic_var_number-2):\n",
    "            LV[-1].append(prc[i][j:j+3])\n",
    "        LV[-1].append([prc[i][linguistic_var_number-2],prc[i][linguistic_var_number-1],prc[i][linguistic_var_number-1]])    \n",
    "    return LV\n",
    "\n",
    "def triangle (z, a, b, c):\n",
    "    y = np.zeros(z.shape)\n",
    "    y[z <= a] = 0\n",
    "    y[z >= c] = 0\n",
    "    first_half = np.logical_and(a < z, z <= b)\n",
    "    y[first_half] = (z[first_half]-a) / (b-a)\n",
    "    second_half = np.logical_and(b < z, z < c)\n",
    "    y[second_half] = (c-z[second_half]) / (c-b)\n",
    "    return y\n",
    "\n",
    "def weighting_years(alpha, horizon_time): # BUM function\n",
    "    weights = []\n",
    "    for t in range(horizon_time):\n",
    "        weights.append(round((exp(alpha*t/horizon_time)-exp(alpha*(t-1)/horizon_time))/(exp(alpha)-1),2))\n",
    "    return weights\n",
    "\n",
    "def membership_atleast(x,p,A):\n",
    "    mu = 0\n",
    "    p = p - 1\n",
    "    if x < A[p][0]:\n",
    "        mu = 0\n",
    "    elif x >= A[p][1]:\n",
    "        mu = 1\n",
    "    else:\n",
    "        mu = float((A[p][0] - x)) / (A[p][0] - A[p][1])\n",
    "    return round(mu,2)\n",
    "\n",
    "def membership_atmost(x,p,A):\n",
    "    mu = 0\n",
    "    p = p - 1\n",
    "    if x <= A[p][1]:\n",
    "        mu = 1\n",
    "    elif x > A[p][2]:\n",
    "        mu = 0\n",
    "    else:\n",
    "        mu = float((x - A[p][2])) / (A[p][1] - A[p][2])\n",
    "    return round(mu,2)"
   ]
  },
  {
   "cell_type": "markdown",
   "metadata": {},
   "source": [
    "**Formatting and exporting new-formatted data** (Original dataset comes from coinmarketcap.com)\n",
    "\n",
    "User should have writing permission for exporting new data"
   ]
  },
  {
   "cell_type": "code",
   "execution_count": 3,
   "metadata": {},
   "outputs": [],
   "source": [
    "cryptos = {}\n",
    "all_resources = {}\n",
    "months = [\"Jan\",\"Feb\",\"Mar\",\"Apr\",\"May\",\"Jun\",\"Jul\",\"Aug\",\"Sep\",\"Oct\",\"Nov\",\"Dec\"]\n",
    "years = range(2018,2019) # according to datasets\n",
    "\n",
    "for i in range(1,n_all+1): # reads all cryptocurrencies data in order to compute percentiles later\n",
    "    file = open(\"datasets/\"+str(i)+\".csv\")\n",
    "    info = file.readline()\n",
    "    abbreviation,name = info.strip().strip(\";\").split(\";\")\n",
    "    for cnt,line in enumerate(file):\n",
    "        if cnt == 0:\n",
    "            cryptos[abbreviation] = name # relates a given cryptocurrency with its abbreviation\n",
    "            all_resources[abbreviation] = {} # collects data for all available cryptocurrencies\n",
    "        elif cnt > 1:\n",
    "            data = line.strip().split(\";\")\n",
    "            if len(data[0]) > 0:\n",
    "                month = months[int(data[0].split(\"-\")[1])-1]\n",
    "                time = \"/\".join([data[0].split(\"-\")[-1],month])\n",
    "                for j in range(len(data[1:])):\n",
    "                    data[j+1] = data[j+1].replace(\".\",\"\").replace(\",\",\".\").replace(\"-\",\"0\")\n",
    "                open_price,close_price,capitalization = float(data[1]),float(data[4]),int(data[-1])\n",
    "                high,low = float(data[2]),float(data[3])\n",
    "                if time not in all_resources[abbreviation]:\n",
    "                    all_resources[abbreviation][time] = [] # collects attribute values by month/year\n",
    "                all_resources[abbreviation][time].insert(0,(close_price/open_price,high/low,log(float(capitalization)+sys.float_info.min)))\n",
    "    file.close()\n",
    "    file = open(\"datasets/\"+\"\".join([\"new\",str(i)])+\".csv\",\"w\")\n",
    "    file.write(abbreviation + \"\\n\")\n",
    "    file.write(\"day-profitability;day-variability;(log of) market capitalization\\n\")\n",
    "    for y in years:\n",
    "        for m in months:\n",
    "            key = \"/\".join([str(y),m])\n",
    "            if key in all_resources[abbreviation]:\n",
    "                for attributes in all_resources[abbreviation][key]:\n",
    "                    file.write(\";\".join(map(str,attributes)) + \"\\n\")\n",
    "    file.close()"
   ]
  },
  {
   "cell_type": "markdown",
   "metadata": {},
   "source": [
    "**Table 1**: Values of the attributes of the cryptocurrencies that are of our interest."
   ]
  },
  {
   "cell_type": "code",
   "execution_count": 4,
   "metadata": {},
   "outputs": [
    {
     "name": "stdout",
     "output_type": "stream",
     "text": [
      "\n",
      "\n",
      "A1: BTC\n",
      "\n",
      "G1:\t 1.01\t 1.03\t  1.0\t  1.0\t 0.94\t\n",
      "G2:\t 1.03\t 1.05\t 1.03\t 1.02\t 1.08\t\n",
      "G3:\t25.96\t25.99\t25.99\t 26.0\t25.93\t\n",
      "\n",
      "A2: ETH\n",
      "\n",
      "G1:\t 0.98\t  1.0\t 1.01\t 0.98\t 0.96\t\n",
      "G2:\t 1.03\t 1.02\t 1.03\t 1.02\t 1.05\t\n",
      "G3:\t25.15\t25.15\t25.17\t25.15\t25.11\t\n",
      "\n",
      "A3: XRP\n",
      "\n",
      "G1:\t 0.98\t  1.0\t 1.11\t 0.95\t 0.97\t\n",
      "G2:\t 1.04\t 1.03\t 1.15\t 1.13\t 1.08\t\n",
      "G3:\t 24.3\t24.29\t24.39\t24.35\t24.31\t\n",
      "\n",
      "A4: LTC\n",
      "\n",
      "G1:\t 1.01\t 0.99\t 1.02\t 0.99\t 0.93\t\n",
      "G2:\t 1.04\t 1.04\t 1.04\t 1.03\t 1.09\t\n",
      "G3:\t23.19\t23.18\t 23.2\t23.18\t23.11\t\n",
      "\n",
      "A5: BCH\n",
      "\n",
      "G1:\t 0.99\t  1.0\t 1.02\t 0.99\t 0.95\t\n",
      "G2:\t 1.04\t 1.04\t 1.05\t 1.02\t 1.07\t\n",
      "G3:\t 23.8\t 23.8\t23.81\t23.79\t23.74\t"
     ]
    }
   ],
   "source": [
    "resources = 5\n",
    "attr_values = {}\n",
    "all_resources = {}\n",
    "for i in range(1,n_all+1):\n",
    "    file = open(\"datasets/new\"+str(i)+\".csv\")\n",
    "    info = file.readline()\n",
    "    abbreviation = info.strip()\n",
    "    if i <= resources:\n",
    "        attr_values[abbreviation] = {}\n",
    "    all_resources[abbreviation] = {}\n",
    "    for cnt,line in enumerate(file):\n",
    "        if cnt > 1:\n",
    "            data = line.strip().split(\";\")\n",
    "            profit,variab,capit = round(float(data[0]),2),round(float(data[1]),2),round(float(data[2]),2)\n",
    "            if capit < 0:\n",
    "                capit = 0\n",
    "            if i <= resources:\n",
    "                attr_values[abbreviation][cnt-2] = (profit,variab,capit)\n",
    "            all_resources[abbreviation][cnt-2] = (profit,variab,capit)\n",
    "    file.close()\n",
    "msg = \"{:>5}\"\n",
    "for i,abbreviation in enumerate(attr_values.keys()):\n",
    "    print(\"\\n\\nA\" + str(i+1) + \":\",abbreviation)\n",
    "    for a in range(1,n_attributes+1):\n",
    "        print(\"\\nG\" + str(a) + \":\", end='\\t')\n",
    "        for t in range(time_horizon_tables):\n",
    "            print(msg.format(attr_values[abbreviation][t][a-1]),end='\\t')"
   ]
  },
  {
   "cell_type": "markdown",
   "metadata": {},
   "source": [
    "**Table 2**: Normalized attributes values of the cryptocurrencies that are of our interest."
   ]
  },
  {
   "cell_type": "code",
   "execution_count": 5,
   "metadata": {},
   "outputs": [
    {
     "name": "stdout",
     "output_type": "stream",
     "text": [
      "\n",
      "\n",
      "A1: BTC\n",
      "\n",
      "G1:\t  1.0\t  1.0\t  0.9\t  1.0\t 0.97\t\n",
      "G2:\t 0.99\t  1.0\t  0.9\t  0.9\t 0.99\t\n",
      "G3:\t  1.0\t  1.0\t  1.0\t  1.0\t  1.0\t\n",
      "\n",
      "A2: ETH\n",
      "\n",
      "G1:\t 0.97\t 0.97\t 0.91\t 0.98\t 0.99\t\n",
      "G2:\t 0.99\t 0.97\t  0.9\t  0.9\t 0.96\t\n",
      "G3:\t 0.97\t 0.97\t 0.97\t 0.97\t 0.97\t\n",
      "\n",
      "A3: XRP\n",
      "\n",
      "G1:\t 0.97\t 0.97\t  1.0\t 0.95\t  1.0\t\n",
      "G2:\t  1.0\t 0.98\t  1.0\t  1.0\t 0.99\t\n",
      "G3:\t 0.94\t 0.93\t 0.94\t 0.94\t 0.94\t\n",
      "\n",
      "A4: LTC\n",
      "\n",
      "G1:\t  1.0\t 0.96\t 0.92\t 0.99\t 0.96\t\n",
      "G2:\t  1.0\t 0.99\t  0.9\t 0.91\t  1.0\t\n",
      "G3:\t 0.89\t 0.89\t 0.89\t 0.89\t 0.89\t\n",
      "\n",
      "A5: BCH\n",
      "\n",
      "G1:\t 0.98\t 0.97\t 0.92\t 0.99\t 0.98\t\n",
      "G2:\t  1.0\t 0.99\t 0.91\t  0.9\t 0.98\t\n",
      "G3:\t 0.92\t 0.92\t 0.92\t 0.91\t 0.92\t"
     ]
    }
   ],
   "source": [
    "normal = normalization(attr_values,attr_labels)\n",
    "msg = \"{:>5}\"\n",
    "for i,abbreviation in enumerate(normal.keys()):\n",
    "    print(\"\\n\\nA\" + str(i+1) + \":\",abbreviation)\n",
    "    for a in range(1,n_attributes+1):\n",
    "        print(\"\\nG\" + str(a) + \":\", end='\\t')\n",
    "        for t in range(time_horizon_tables):\n",
    "            print(msg.format(normal[abbreviation][t][a-1]),end='\\t')"
   ]
  },
  {
   "cell_type": "markdown",
   "metadata": {},
   "source": [
    "**Table 3**: Linguistic Decision Matrix"
   ]
  },
  {
   "cell_type": "code",
   "execution_count": 6,
   "metadata": {},
   "outputs": [
    {
     "name": "stdout",
     "output_type": "stream",
     "text": [
      "\n",
      "\n",
      "A1: BTC\n",
      "\n",
      "G1:\t    2\t    2\t    0\t    2\t    2\t\n",
      "G2:\t    2\t    2\t    2\t    2\t    2\t\n",
      "G3:\t    2\t    2\t    2\t    2\t    2\t\n",
      "\n",
      "A2: ETH\n",
      "\n",
      "G1:\t    2\t    2\t    1\t    2\t    2\t\n",
      "G2:\t    2\t    2\t    2\t    2\t    2\t\n",
      "G3:\t    2\t    2\t    2\t    2\t    2\t\n",
      "\n",
      "A3: XRP\n",
      "\n",
      "G1:\t    2\t    2\t    2\t    2\t    2\t\n",
      "G2:\t    2\t    2\t    2\t    2\t    2\t\n",
      "G3:\t    2\t    2\t    2\t    2\t    2\t\n",
      "\n",
      "A4: LTC\n",
      "\n",
      "G1:\t    2\t    2\t    2\t    2\t    2\t\n",
      "G2:\t    2\t    2\t    2\t    2\t    2\t\n",
      "G3:\t    2\t    2\t    2\t    2\t    2\t\n",
      "\n",
      "A5: BCH\n",
      "\n",
      "G1:\t    2\t    2\t    2\t    2\t    2\t\n",
      "G2:\t    2\t    2\t    2\t    2\t    2\t\n",
      "G3:\t    2\t    2\t    2\t    2\t    2\t"
     ]
    }
   ],
   "source": [
    "LV = {}\n",
    "aux = {}\n",
    "all_normalized = normalization(all_resources,attr_labels)\n",
    "for t in range(time_horizon):\n",
    "    aux[t] = {}\n",
    "    for a in range(len(attr_labels)):\n",
    "        aux[t][a] = []\n",
    "        for abbreviation in all_normalized.keys():\n",
    "            aux[t][a].append(all_normalized[abbreviation][t][a])\n",
    "    LV[t] = linguistic_values(aux[t],linguistic_var_number)\n",
    "linguistic = {}\n",
    "for abbreviation in normal.keys():\n",
    "    linguistic[abbreviation] = {}\n",
    "    for t in range(time_horizon):\n",
    "        linguistic[abbreviation][t] = []\n",
    "        for a in range(n_attributes):\n",
    "            mu = []\n",
    "            for level in range(linguistic_var_number):\n",
    "                if attr_labels[a] == \"benefit\":\n",
    "                    mu.append(membership_atleast(normal[abbreviation][t][a],level,LV[t][a]))\n",
    "                else:\n",
    "                    mu.append(membership_atmost(normal[abbreviation][t][a],level,LV[t][a]))\n",
    "            if attr_labels[a] == \"benefit\":\n",
    "                linguistic[abbreviation][t].append(len(mu)-1-mu[::-1].index(max(mu))-2)\n",
    "            else:\n",
    "                linguistic[abbreviation][t].append(mu.index(max(mu))-2)\n",
    "msg = \"{:>5}\"\n",
    "for i,abbreviation in enumerate(linguistic.keys()):\n",
    "    print(\"\\n\\nA\" + str(i+1) + \":\",abbreviation)\n",
    "    for a in range(1,n_attributes+1):\n",
    "        print(\"\\nG\" + str(a) + \":\", end='\\t')\n",
    "        for t in range(time_horizon_tables):\n",
    "            print(msg.format(linguistic[abbreviation][t][a-1]),end='\\t')"
   ]
  },
  {
   "cell_type": "markdown",
   "metadata": {},
   "source": [
    "(optional, not in article) **Triangles** - Membership function for each attribute on the first five days"
   ]
  },
  {
   "cell_type": "code",
   "execution_count": 7,
   "metadata": {},
   "outputs": [
    {
     "data": {
      "image/png": "[encoded data removed]",
      "text/plain": [
       "<Figure size 432x288 with 5 Axes>"
      ]
     },
     "metadata": {
      "needs_background": "light"
     },
     "output_type": "display_data"
    }
   ],
   "source": [
    "attribute = 0 # analyzing first attribute (day-profitability)\n",
    "y = [0,1,0]\n",
    "f, ax = plt.subplots(time_horizon_tables, sharex = True)\n",
    "f.tight_layout()\n",
    "axes = plt.gca()\n",
    "for i in range(linguistic_var_number):\n",
    "    for t in range(time_horizon_tables):\n",
    "        a,b,c = LV[t][attribute][i]\n",
    "        z = np.linspace(LV[0][attribute][0][0], LV[time_horizon_tables-1][attribute][-1][-1], num = 100)\n",
    "        y = triangle(z,a,b,c)\n",
    "        ax[t].set_title('Day '+str(t+1), color='k')\n",
    "        ax[t].plot(y,color='k')\n",
    "plt.show()\n",
    "#uncomment next line for exporting figure\n",
    "#f.savefig('a'+str(attribute+1)+'mf'+str(time_horizon)+'days.eps')"
   ]
  },
  {
   "cell_type": "markdown",
   "metadata": {},
   "source": [
    "**Table 4**: Attribute aggregation using the LWA operator."
   ]
  },
  {
   "cell_type": "code",
   "execution_count": 8,
   "metadata": {},
   "outputs": [
    {
     "name": "stdout",
     "output_type": "stream",
     "text": [
      "\n",
      "A1: BTC\t  2.0\t  2.0\t 1.33\t  2.0\t  2.0\t\n",
      "\n",
      "\n",
      "A2: ETH\t  2.0\t  2.0\t 1.67\t  2.0\t  2.0\t\n",
      "\n",
      "\n",
      "A3: XRP\t  2.0\t  2.0\t  2.0\t  2.0\t  2.0\t\n",
      "\n",
      "\n",
      "A4: LTC\t  2.0\t  2.0\t  2.0\t  2.0\t  2.0\t\n",
      "\n",
      "\n",
      "A5: BCH\t  2.0\t  2.0\t  2.0\t  2.0\t  2.0\t\n",
      "\n"
     ]
    }
   ],
   "source": [
    "attr_aggr = {}\n",
    "attr_weights = np.ones(n_attributes)*(1.0/n_attributes)\n",
    "for abbreviation in linguistic.keys():\n",
    "    attr_aggr[abbreviation] = {}\n",
    "    for t in range(time_horizon):\n",
    "        attr_aggr[abbreviation][t] = round(np.dot(linguistic[abbreviation][t],np.transpose(attr_weights)),2)\n",
    "msg = \"{:>5}\"\n",
    "for i,abbreviation in enumerate(attr_aggr.keys()):\n",
    "    print(\"\\nA\" + str(i+1) + \":\",abbreviation,end=\"\\t\")\n",
    "    for t in range(time_horizon_tables):\n",
    "        print(msg.format(attr_aggr[abbreviation][t]),end='\\t')    \n",
    "    print(\"\\n\")"
   ]
  },
  {
   "cell_type": "markdown",
   "metadata": {},
   "source": [
    "**Table 5**: Temporal aggregation for each cryptocurrency."
   ]
  },
  {
   "cell_type": "code",
   "execution_count": 9,
   "metadata": {},
   "outputs": [
    {
     "name": "stdout",
     "output_type": "stream",
     "text": [
      "\n",
      "t0:\t 1.22\t 1.22\t 1.22\t 1.22\t 1.22\t\n",
      "t1:\t 1.56\t 1.56\t 1.56\t 1.56\t 1.56\t\n",
      "t2:\t 1.48\t 1.59\t  1.7\t  1.7\t  1.7\t\n",
      "t3:\t 1.61\t 1.68\t 1.76\t 1.76\t 1.76\t\n",
      "t4:\t  1.7\t 1.76\t 1.82\t 1.82\t 1.82\t"
     ]
    }
   ],
   "source": [
    "z = {}\n",
    "for t in range(time_horizon):\n",
    "    z[t] = {}\n",
    "    weights = weighting_years(0.5,t+1)\n",
    "    for abbreviation in attr_aggr.keys():\n",
    "        aux = []\n",
    "        for tau in range(t+1):\n",
    "            aux.append(attr_aggr[abbreviation][tau])\n",
    "        z[t][abbreviation] = round(np.dot(aux,np.transpose(weights)),2)\n",
    "msg = \"{:>5}\"\n",
    "for t in range(time_horizon_tables):\n",
    "    print(\"\\nt\" + str(t) + \":\",end=\"\\t\")\n",
    "    for abbreviation in z[t].keys():\n",
    "        print(msg.format(z[t][abbreviation]),end='\\t')    "
   ]
  },
  {
   "cell_type": "markdown",
   "metadata": {},
   "source": [
    "**Table 6**: Ranking of best alternatives using DLWA operator."
   ]
  },
  {
   "cell_type": "code",
   "execution_count": 10,
   "metadata": {},
   "outputs": [
    {
     "name": "stdout",
     "output_type": "stream",
     "text": [
      "\n",
      "Day1:\t  BTC\t  ETH\t  XRP\t  LTC\t  BCH\t\n",
      "Day2:\t  BTC\t  ETH\t  XRP\t  LTC\t  BCH\t\n",
      "Day3:\t  XRP\t  LTC\t  BCH\t  ETH\t  BTC\t\n",
      "Day4:\t  XRP\t  LTC\t  BCH\t  ETH\t  BTC\t\n",
      "Day5:\t  XRP\t  LTC\t  BCH\t  ETH\t  BTC\t"
     ]
    }
   ],
   "source": [
    "msg = \"{:>5}\"\n",
    "for t in range(time_horizon_tables):\n",
    "    print(\"\\nDay\" + str(t+1) + \":\",end=\"\\t\")\n",
    "    ordered = sorted(list(z[t].items()),key=lambda x: x[1],reverse=True)\n",
    "    for abbreviation,value in ordered:\n",
    "        print(msg.format(abbreviation),end='\\t')"
   ]
  },
  {
   "cell_type": "markdown",
   "metadata": {},
   "source": [
    "**Table 7**: Ranking of the best alternative for the first five days of data."
   ]
  },
  {
   "cell_type": "code",
   "execution_count": 11,
   "metadata": {},
   "outputs": [
    {
     "name": "stdout",
     "output_type": "stream",
     "text": [
      "Day\tDLWA\tRandom\n",
      "1:\tBTC\tETH\n",
      "2:\tBTC\tLTC\n",
      "3:\tXRP\tLTC\n",
      "4:\tXRP\tETH\n",
      "5:\tXRP\tLTC\n"
     ]
    }
   ],
   "source": [
    "choices = {}\n",
    "random.seed(100)\n",
    "print(\"Day\\tDLWA\\tRandom\")\n",
    "for t in range(time_horizon_tables):\n",
    "    print(str(t+1)+\":\",end=\"\\t\")\n",
    "    ordered = sorted(list(z[t].items()),key=lambda x: x[1],reverse=True)\n",
    "    any_crypto = random.choice(list(attr_values.keys()))\n",
    "    print(ordered[0][0],end=\"\\t\")\n",
    "    print(any_crypto)"
   ]
  },
  {
   "cell_type": "markdown",
   "metadata": {},
   "source": [
    "**Table 8**: Dollars obtained when buying at opening price and selling at closing value."
   ]
  },
  {
   "cell_type": "code",
   "execution_count": 12,
   "metadata": {},
   "outputs": [
    {
     "name": "stdout",
     "output_type": "stream",
     "text": [
      "Day\tBTC\tDLWA\tRandom\n",
      "0:\t105\t105\t102\n",
      "1:\t106\t106\t103\n",
      "2:\t110\t106\t101\n",
      "3:\t110\t118\t102\n",
      "4:\t110\t112\t101\n"
     ]
    }
   ],
   "source": [
    "initial_investment = 100\n",
    "prices = {}\n",
    "for i in range(1,resources+1): # reads cryptocurrencies values in order to compute profits or losses\n",
    "    total_days = sum(1 for line in open(\"datasets/\"+str(i)+\".csv\"))\n",
    "    file = open(\"datasets/\"+str(i)+\".csv\")\n",
    "    lines = file.readlines()\n",
    "    file.close()\n",
    "    file = open(\"datasets/\"+str(i)+\".csv\")\n",
    "    info = file.readline()\n",
    "    abbreviation,name = info.strip().strip(\";\").split(\";\")\n",
    "    for cnt,line in enumerate(file):\n",
    "        t = total_days-cnt-2\n",
    "        if cnt == 0:\n",
    "            prices[abbreviation] = {}\n",
    "        elif cnt > 1:\n",
    "            data = line.strip().split(\";\")\n",
    "            if len(data[0]) > 0:\n",
    "                for j in range(len(data[1:])):\n",
    "                    data[j+1] = data[j+1].replace(\".\",\"\").replace(\",\",\".\").replace(\"-\",\"0\")\n",
    "                open_price,close_price,capitalization = float(data[1]),float(data[4]),int(data[-1])\n",
    "            if t <= time_horizon:\n",
    "                prices[abbreviation][t] = (open_price,close_price)\n",
    "    file.close()\n",
    "investment = [initial_investment]\n",
    "investment_btc = [initial_investment]\n",
    "random_investment = [initial_investment]\n",
    "random.seed(100)\n",
    "print(\"Day\\tBTC\\tDLWA\\tRandom\")\n",
    "for t in range(time_horizon_tables):\n",
    "    choices = sorted(list(z[t].items()),key=lambda x: x[1],reverse=True)\n",
    "    btc = investment_btc[t]/prices['BTC'][t][0]\n",
    "    investment_btc.append(int(round(btc*prices['BTC'][t][1])))\n",
    "    crypto_amount = investment[t]/prices[choices[0][0]][t][0]\n",
    "    investment.append(int(round(crypto_amount*prices[choices[0][0]][t][1])))\n",
    "    any_crypto = random.choice(list(attr_values.keys()))\n",
    "    random_amount = random_investment[t]/prices[any_crypto][t][0]\n",
    "    random_investment.append(int(round(random_amount*prices[any_crypto][t][1])))\n",
    "    print(t,end=\":\\t\")\n",
    "    print(investment_btc[-1],end=\"\\t\")\n",
    "    print(investment[-1],end=\"\\t\")\n",
    "    print(random_investment[-1])"
   ]
  },
  {
   "cell_type": "markdown",
   "metadata": {},
   "source": [
    "**Table 9**: 2 cryptocurrencies portfolio comparison, except for complete portfolio which considers all five resources."
   ]
  },
  {
   "cell_type": "code",
   "execution_count": 13,
   "metadata": {},
   "outputs": [
    {
     "name": "stdout",
     "output_type": "stream",
     "text": [
      "Day\tComplete DLWA\tRandom\n",
      "0:\t104\t104\t103\n",
      "1:\t104\t104\t103\n",
      "2:\t105\t103\t102\n",
      "3:\t107\t110\t104\n",
      "4:\t106\t106\t103\n"
     ]
    }
   ],
   "source": [
    "desired_portfolio = 2\n",
    "initial_investment = 100\n",
    "portfolio_choices = {}\n",
    "for t in z.keys():\n",
    "    ordered = sorted(list(z[t].items()),key=lambda x: x[1],reverse=True)\n",
    "    portfolio_choices[t] = []\n",
    "    for i in range(desired_portfolio):\n",
    "        portfolio_choices[t].append(ordered[i][0])\n",
    "    \n",
    "dlwa = {}\n",
    "whole = {}\n",
    "random_portfolio = {}\n",
    "dlwa_values = [initial_investment]\n",
    "whole_values = [initial_investment]\n",
    "random_values = [initial_investment]\n",
    "for i in range(desired_portfolio):\n",
    "    dlwa[i] = [initial_investment/desired_portfolio]\n",
    "    random_portfolio[i] = [initial_investment/desired_portfolio]\n",
    "for i in range(resources):\n",
    "    whole[i] = [initial_investment/resources]\n",
    "random.seed(100)\n",
    "\n",
    "cryptos = list(attr_values.keys())\n",
    "print(\"Day\\tComplete DLWA\\tRandom\")\n",
    "for t in range(time_horizon_tables):\n",
    "    day_value = 0\n",
    "    day_whole_value = 0\n",
    "    day_random = 0\n",
    "    for i in range(resources):\n",
    "        buying_from_whole = whole[i][-1]/prices[cryptos[i]][t][0]\n",
    "        whole[i].append(int(round(buying_from_whole*prices[cryptos[i]][t][1])))\n",
    "        day_whole_value += whole[i][-1]\n",
    "    whole_values.append(day_whole_value)\n",
    "    for i in range(desired_portfolio):\n",
    "        any_crypto = random.choice(cryptos)\n",
    "        buying_random = random_portfolio[i][-1]/prices[any_crypto][t][0]\n",
    "        random_portfolio[i].append(int(round(buying_random*prices[any_crypto][t][1])))\n",
    "        day_random += random_portfolio[i][-1]\n",
    "        buying_dlwa = dlwa[i][-1]/prices[portfolio_choices[t][i]][t][0]\n",
    "        dlwa[i].append(int(round(buying_dlwa*prices[portfolio_choices[t][i]][t][1])))\n",
    "        day_value += dlwa[i][-1]\n",
    "    dlwa_values.append(day_value)\n",
    "    random_values.append(day_random)\n",
    "    print(t,end=\":\\t\")\n",
    "    print(whole_values[-1],end=\"\\t\")\n",
    "    print(dlwa_values[-1],end=\"\\t\")\n",
    "    print(random_values[-1])"
   ]
  },
  {
   "cell_type": "markdown",
   "metadata": {},
   "source": [
    "**Figure 1** - Investment evolution when buying at opening price and selling at closing price on a given day.\n",
    "\n",
    "*for changing pool size of cryptos to be considered, change 'resources' variable on Table 1 and run again subsequent cells (since DLWA decisions will vary)*\n",
    "\n",
    "*change size of portfolio here with desired_portfolio*"
   ]
  },
  {
   "cell_type": "code",
   "execution_count": 14,
   "metadata": {},
   "outputs": [
    {
     "data": {
      "image/png": "[encoded data removed]",
      "text/plain": [
       "<Figure size 432x288 with 1 Axes>"
      ]
     },
     "metadata": {
      "needs_background": "light"
     },
     "output_type": "display_data"
    }
   ],
   "source": [
    "desired_portfolio = 1\n",
    "initial_investment = 100\n",
    "portfolio_choices = {}\n",
    "for t in z.keys():\n",
    "    ordered = sorted(list(z[t].items()),key=lambda x: x[1],reverse=True)\n",
    "    portfolio_choices[t] = []\n",
    "    for i in range(desired_portfolio):\n",
    "        portfolio_choices[t].append(ordered[i][0])\n",
    "    \n",
    "dlwa = {}\n",
    "whole = {}\n",
    "random_portfolio = {}\n",
    "dlwa_values = [initial_investment]\n",
    "whole_values = [initial_investment]\n",
    "random_values = [initial_investment]\n",
    "investment_btc = [initial_investment]\n",
    "for i in range(desired_portfolio):\n",
    "    dlwa[i] = [initial_investment/desired_portfolio]\n",
    "    random_portfolio[i] = [initial_investment/desired_portfolio]\n",
    "for i in range(resources):\n",
    "    whole[i] = [initial_investment/resources]\n",
    "random.seed(100)\n",
    "\n",
    "cryptos = list(attr_values.keys())\n",
    "for t in range(time_horizon):\n",
    "    day_value = 0\n",
    "    day_whole_value = 0\n",
    "    day_random = 0\n",
    "    btc = investment_btc[t]/prices['BTC'][t][0]\n",
    "    investment_btc.append(int(round(btc*prices['BTC'][t][1])))\n",
    "    for i in range(resources):\n",
    "        buying_from_whole = whole[i][-1]/prices[cryptos[i]][t][0]\n",
    "        whole[i].append(int(round(buying_from_whole*prices[cryptos[i]][t][1])))\n",
    "        day_whole_value += whole[i][-1]\n",
    "    whole_values.append(day_whole_value)\n",
    "    for i in range(desired_portfolio):\n",
    "        any_crypto = random.choice(cryptos)\n",
    "        buying_random = random_portfolio[i][-1]/prices[any_crypto][t][0]\n",
    "        random_portfolio[i].append(int(round(buying_random*prices[any_crypto][t][1])))\n",
    "        day_random += random_portfolio[i][-1]\n",
    "        buying_dlwa = dlwa[i][-1]/prices[portfolio_choices[t][i]][t][0]\n",
    "        dlwa[i].append(int(round(buying_dlwa*prices[portfolio_choices[t][i]][t][1])))\n",
    "        day_value += dlwa[i][-1]\n",
    "    dlwa_values.append(day_value)\n",
    "    random_values.append(day_random)\n",
    "time = np.arange(time_horizon+1)\n",
    "plt.plot(time,dlwa_values)\n",
    "plt.plot(time,whole_values)\n",
    "plt.plot(time,random_values)\n",
    "plt.plot(time,investment_btc)\n",
    "\n",
    "axes = plt.gca()\n",
    "plt.ylabel(\"Dollars\")\n",
    "plt.xlabel(\"Day\")\n",
    "plt.grid(True)\n",
    "plt.legend([\"DLWA\", \"Whole\",\"Random\",\"BTC\"])\n",
    "plt.title(\"Whole set of \" + str(resources) + \" cryptos and \" + str(desired_portfolio) + \" for desired portfolio \")\n",
    "plt.show()\n",
    "#uncomment next line for exporting figure\n",
    "#plt.savefig(str(resources) + \" cryptos-and-\" + str(desired_portfolio) + \"in-portfolio.eps\")"
   ]
  }
 ],
 "metadata": {
  "kernelspec": {
   "display_name": "Python 3",
   "language": "python",
   "name": "python3"
  },
  "language_info": {
   "codemirror_mode": {
    "name": "ipython",
    "version": 3
   },
   "file_extension": ".py",
   "mimetype": "text/x-python",
   "name": "python",
   "nbconvert_exporter": "python",
   "pygments_lexer": "ipython3",
   "version": "3.6.7"
  }
 },
 "nbformat": 4,
 "nbformat_minor": 2
}
