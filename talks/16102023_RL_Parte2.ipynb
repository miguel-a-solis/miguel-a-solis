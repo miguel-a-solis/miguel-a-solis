{
  "cells": [
    {
      "cell_type": "markdown",
      "source": [
        "**Escuela Internacional de Primavera sobre Entornos Ubicuos y Aplicaciones de Robots Sociales**\n",
        "\n",
        "**Tutorial #2 - Parte 2** - Aprendizaje Reforzado con Gym\n",
        "\n",
        "[Dr. Miguel A. Solis](http://www.miguelsolis.info)\n",
        "\n",
        "16 de octubre de 2023"
      ],
      "metadata": {
        "id": "m11IqaNJhMNm"
      }
    },
    {
      "cell_type": "code",
      "execution_count": null,
      "metadata": {
        "id": "3oIjgrO73NTI"
      },
      "outputs": [],
      "source": [
        "!pip install gymnasium\n",
        "\n",
        "import random\n",
        "import numpy as np\n",
        "import gymnasium as gym\n",
        "import matplotlib.pyplot as plt\n",
        "\n",
        "from gym.wrappers.monitoring import video_recorder\n",
        "from IPython.display import HTML\n",
        "from IPython import display\n",
        "import glob\n",
        "import io\n",
        "import base64"
      ]
    },
    {
      "cell_type": "code",
      "execution_count": null,
      "metadata": {
        "id": "zUn1AGj8DKU5"
      },
      "outputs": [],
      "source": [
        "def show_video(env_name):\n",
        "    mp4list = glob.glob('*.mp4')\n",
        "    if len(mp4list) > 0:\n",
        "        mp4 = '{}.mp4'.format(env_name)\n",
        "        video = io.open(mp4, 'r+b').read()\n",
        "        encoded = base64.b64encode(video)\n",
        "        display.display(HTML(data='''<video alt=\"test\" autoplay loop controls style=\"height: 400px;\"><source src=\"data:video/mp4;base64,{0}\" type=\"video/mp4\" />\n",
        "             </video>'''.format(encoded.decode('ascii'))))\n",
        "    else:\n",
        "        print(\"no se pudo encontrar el video\")"
      ]
    },
    {
      "cell_type": "code",
      "source": [
        "# prueba con acciones aleatorias\n",
        "env_name = \"Taxi-v3\"\n",
        "env = gym.make(env_name, render_mode=\"rgb_array\")\n",
        "vid = video_recorder.VideoRecorder(env, path=\"{}.mp4\".format(env_name))\n",
        "state = env.reset()\n",
        "done = False\n",
        "for t in range(100):\n",
        "  vid.capture_frame()\n",
        "  action = env.action_space.sample()\n",
        "  next_state, reward, done, _, _ = env.step(action)\n",
        "  state = next_state\n",
        "  if done:\n",
        "    break\n",
        "vid.close()\n",
        "env.close()\n",
        "\n",
        "show_video(env_name)"
      ],
      "metadata": {
        "id": "YtxAN1NQJPtF"
      },
      "execution_count": null,
      "outputs": []
    },
    {
      "cell_type": "code",
      "execution_count": null,
      "metadata": {
        "id": "8cs4jdkeGgWV"
      },
      "outputs": [],
      "source": [
        "# Inicialización del entorno\n",
        "env = gym.make(\"Taxi-v3\", render_mode=\"rgb_array\")\n",
        "env.reset()\n",
        "env.render()"
      ]
    },
    {
      "cell_type": "code",
      "execution_count": null,
      "metadata": {
        "id": "1ZGpbo9JIxE_"
      },
      "outputs": [],
      "source": [
        "# Verificación del espacio de estados y espacio de acciones\n",
        "print(\"Espacio de acciones: {}\".format(env.action_space))\n",
        "print(\"Espacio de estados: {}\".format(env.observation_space))"
      ]
    },
    {
      "cell_type": "code",
      "execution_count": null,
      "metadata": {
        "id": "9YZCsDabQO6S"
      },
      "outputs": [],
      "source": [
        "# Hiperparámetros\n",
        "\n",
        "alpha = 0.8\n",
        "gamma = 0.9\n",
        "epsilon = 0.99 # epsilon-greedy\n",
        "max_epsilon = 1\n",
        "min_epsilon = 0.01\n",
        "decaimiento = 0.01\n",
        "\n",
        "episodios_entrenamiento = 1000\n",
        "maximo_pasos = 100\n",
        "\n",
        "# Inicialización de Q\n",
        "Q = np.zeros((env.observation_space.n, env.action_space.n))"
      ]
    },
    {
      "cell_type": "code",
      "execution_count": null,
      "metadata": {
        "id": "vxVlfajqrSkw"
      },
      "outputs": [],
      "source": [
        "# Entrenamiento usando Q-learning\n",
        "\n",
        "recompensas_entrenamiento = []\n",
        "epsilons = []\n",
        "\n",
        "for episodio in range(episodios_entrenamiento):\n",
        "    print(\"====== EPISODIO {} ======\".format(episodio))\n",
        "    estado, info = env.reset()\n",
        "    total_recompensas_entrenamiento = 0\n",
        "\n",
        "    for paso in range(maximo_pasos):\n",
        "        env.render()\n",
        "        p = random.uniform(0, 1)\n",
        "        if p < epsilon:\n",
        "            accion = env.action_space.sample()\n",
        "        else:\n",
        "            accion = np.argmax(Q[estado,:])\n",
        "\n",
        "        nuevo_estado, recompensa, fin, _, info = env.step(accion)\n",
        "        Q[estado, accion] = Q[estado, accion] + alpha * (recompensa + gamma * np.max(Q[nuevo_estado, :]) - Q[estado, accion])\n",
        "        total_recompensas_entrenamiento += recompensa\n",
        "        estado = nuevo_estado\n",
        "\n",
        "        if fin:\n",
        "            print (\"Recompensa total del episodio {}: {}\".format(episodio, total_recompensas_entrenamiento))\n",
        "            break\n",
        "\n",
        "    epsilon = min_epsilon + (max_epsilon - min_epsilon)*np.exp(-decaimiento*episodio)\n",
        "\n",
        "    recompensas_entrenamiento.append(total_recompensas_entrenamiento)\n",
        "    epsilons.append(epsilon)\n",
        "\n",
        "print (\"Recompensas de entrenamiento en el tiempo: \" + str(sum(recompensas_entrenamiento)/episodios_entrenamiento))"
      ]
    },
    {
      "cell_type": "code",
      "execution_count": null,
      "metadata": {
        "id": "OJiGUj-3uzBe"
      },
      "outputs": [],
      "source": [
        "# Gráfico con evolución de la recompensa total obtenida en cada episodio de aprendizaje\n",
        "x = range(episodios_entrenamiento)\n",
        "plt.plot(x, recompensas_entrenamiento)\n",
        "plt.xlabel('Episodio')\n",
        "plt.ylabel('Recompensa')\n",
        "plt.title('Recompensa total de entrenamiento por episodio')\n",
        "plt.grid(True)\n",
        "plt.show()\n",
        "\n"
      ]
    },
    {
      "cell_type": "code",
      "execution_count": null,
      "metadata": {
        "id": "m4uwNlOdvV2d"
      },
      "outputs": [],
      "source": [
        "# Gráfico con evolución de epsilon por cada episodio, para una política epsilon-greedy\n",
        "\n",
        "plt.plot(epsilons)\n",
        "plt.xlabel('Episodio')\n",
        "plt.ylabel('Epsilon')\n",
        "plt.title(\"Evolución de epsilon (exploración/explotación)\")\n",
        "plt.grid(True)\n",
        "plt.show()"
      ]
    },
    {
      "cell_type": "code",
      "execution_count": null,
      "metadata": {
        "id": "v4Er3VTUvwA-"
      },
      "outputs": [],
      "source": [
        "# Usando el aprendizaje realizado\n",
        "\n",
        "vid = video_recorder.VideoRecorder(env, path=\"{}.mp4\".format(\"Taxi-v3\"))\n",
        "estado, info = env.reset()\n",
        "\n",
        "paso = 0\n",
        "fin = False\n",
        "total_recompensas = 0\n",
        "\n",
        "for paso in range(maximo_pasos):\n",
        "  env.render()\n",
        "  vid.capture_frame()\n",
        "  accion = np.argmax(Q[estado, :])\n",
        "  nuevo_estado, recompensa, fin, _, info = env.step(accion)\n",
        "  total_recompensas += recompensa\n",
        "\n",
        "  if fin:\n",
        "    print('Retorno obtenido en episodio {}: {}'.format(episodio,total_recompensas))\n",
        "    break\n",
        "  estado = nuevo_estado\n",
        "\n",
        "vid.close()\n",
        "env.close()\n",
        "print(\"Recompensa total del episodio:\", total_recompensas)\n",
        "\n",
        "show_video('Taxi-v3')"
      ]
    },
    {
      "cell_type": "code",
      "source": [],
      "metadata": {
        "id": "0l75h8MAQwAJ"
      },
      "execution_count": null,
      "outputs": []
    }
  ],
  "metadata": {
    "accelerator": "GPU",
    "colab": {
      "provenance": []
    },
    "kernelspec": {
      "display_name": "Python 3",
      "name": "python3"
    },
    "language_info": {
      "name": "python"
    }
  },
  "nbformat": 4,
  "nbformat_minor": 0
}