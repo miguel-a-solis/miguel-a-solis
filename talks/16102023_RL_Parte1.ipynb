{
  "cells": [
    {
      "cell_type": "markdown",
      "source": [
        "**Escuela Internacional de Primavera sobre Entornos Ubicuos y Aplicaciones de Robots Sociales**\n",
        "\n",
        "**Tutorial #2 - Parte 1** - Aprendizaje Reforzado con Gym\n",
        "\n",
        "[Dr. Miguel A. Solis](http://www.miguelsolis.info)\n",
        "\n",
        "16 de octubre de 2023"
      ],
      "metadata": {
        "id": "odhKSj1zWZqd"
      }
    },
    {
      "cell_type": "code",
      "execution_count": null,
      "metadata": {
        "collapsed": true,
        "id": "NcVs-28paBSU"
      },
      "outputs": [],
      "source": [
        "import numpy as np"
      ]
    },
    {
      "cell_type": "code",
      "execution_count": null,
      "metadata": {
        "collapsed": true,
        "id": "W-5_1QZGaBSY"
      },
      "outputs": [],
      "source": [
        "# Ejemplo 1 - Construcción de grilla\n",
        "\n",
        "class Mapa:\n",
        "\n",
        "    def __init__(self,ancho,alto,inicio):\n",
        "        self.ancho = ancho\n",
        "        self.alto = alto\n",
        "        self.fila = inicio[0]\n",
        "        self.columna = inicio[1]\n",
        "\n",
        "    def conjunto(self,recompensas,acciones):\n",
        "        self.recompensas = recompensas # diccionario de posibles recompensas para cada estado (fila,columna) : r\n",
        "        self.acciones = acciones # diccionario de posibles acciones para cada estado (fila,columna) : ('U','D','L','R')\n",
        "\n",
        "    def fijar_estado(self,s):\n",
        "        self.fila = s[0]\n",
        "        self.columna = s[1]\n",
        "\n",
        "    def estado_actual(self):\n",
        "        return (self.fila,self.columna)\n",
        "\n",
        "    def es_final(self,s):\n",
        "        return s not in self.acciones\n",
        "\n",
        "    def mover(self,accion):\n",
        "        if accion in self.acciones[self.estado_actual()] :\n",
        "            if accion == 'U':\n",
        "                self.fila -= 1\n",
        "            elif accion == 'D':\n",
        "                self.fila += 1\n",
        "            elif accion == 'L':\n",
        "                self.columna -= 1\n",
        "            elif accion == 'R':\n",
        "                self.columna += 1\n",
        "        return self.recompensas.get(self.estado_actual(),0)\n",
        "\n",
        "    def deshacer(self,accion):\n",
        "        if accion in self.acciones[self.estado_actual()] :\n",
        "            if accion == 'U':\n",
        "                self.fila += 1\n",
        "            elif accion == 'D':\n",
        "                self.fila -= 1\n",
        "            elif accion == 'L':\n",
        "                self.columna += 1\n",
        "            elif accion == 'R':\n",
        "                self.columna -= 1\n",
        "        assert(self.estado_actual() in self.todos_estados())\n",
        "\n",
        "    def fin(self):\n",
        "        return self.estado_actual not in self.acciones\n",
        "\n",
        "    def todos_estados(self):\n",
        "        return set(list(self.acciones.keys()) + list(self.recompensas.keys()))"
      ]
    },
    {
      "cell_type": "code",
      "execution_count": null,
      "metadata": {
        "collapsed": true,
        "id": "1V5avvF6aBSb"
      },
      "outputs": [],
      "source": [
        "# Ejemplo 1 - Configuración del problema\n",
        "\n",
        "def mapa_con_costo(costo_paso = -0.1):\n",
        "    g = Mapa(4,3,(2,0)) # ancho de 4 celdas, alto de 3 celdas y posición inicial en (2,0)\n",
        "    recompensas = {(0,3) : 1, (1,3):-1}\n",
        "    acciones = {\n",
        "        (0,0) : ('D','R'),\n",
        "        (0,1) : ('L','R'),\n",
        "        (0,2) : ('L','R','D'),\n",
        "        (1,0) : ('U','D'),\n",
        "        (1,2) : ('U','D','R'),\n",
        "        (2,0) : ('U','R'),\n",
        "        (2,1) : ('L','R'),\n",
        "        (2,2) : ('U','L','R'),\n",
        "        (2,3) : ('L','U')\n",
        "        }\n",
        "    g.conjunto(recompensas,acciones)\n",
        "    recompensas = {}\n",
        "    for fila in range(g.alto):\n",
        "        for columna in range(g.ancho):\n",
        "            recompensas[(fila,columna)] = costo_paso\n",
        "    recompensas[(0,3)] = 1\n",
        "    recompensas[(1,3)] = -1\n",
        "    recompensas.pop((1,1),None)\n",
        "    g.conjunto(recompensas,g.acciones)\n",
        "    return g"
      ]
    },
    {
      "cell_type": "code",
      "execution_count": null,
      "metadata": {
        "collapsed": true,
        "id": "yYVpqYoYaBSc"
      },
      "outputs": [],
      "source": [
        "# Ejemplo 1 - Mostrar valores\n",
        "def mostrar_valores(V,g):\n",
        "    for fila in range(g.alto):\n",
        "        print(20*\"-\")\n",
        "        for columna in range(g.ancho):\n",
        "            v = V.get((fila,columna),0)\n",
        "\n",
        "            #if (v >= 0) :\n",
        "            print(\" %.2f|\" % v, end=\"\")\n",
        "            #else :\n",
        "             #   print \"%.2f|\"  % v,\n",
        "        print(\"\")\n",
        "\n",
        "def mostrar_politica(P,g) :\n",
        "    for fila in range(g.alto):\n",
        "        print(20*\"-\")\n",
        "        for columna in range(g.ancho):\n",
        "            a = P.get((fila,columna),'')\n",
        "            print(\" %s |\" % a, end=\"\")\n",
        "        print(\"\")"
      ]
    },
    {
      "cell_type": "code",
      "execution_count": null,
      "metadata": {
        "id": "JJvlFG1xaBSe"
      },
      "outputs": [],
      "source": [
        "# Ejemplo 1 - Value Iteration\n",
        "repeticiones = 10\n",
        "iteraciones = 0\n",
        "gamma = 0.9\n",
        "epsilon = 1e-3\n",
        "total_acciones = ('U','D','L','R')\n",
        "mapa = mapa_con_costo()\n",
        "estados = mapa.todos_estados()\n",
        "V = {}\n",
        "for s in estados:\n",
        "    V[s] = 0.0\n",
        "while True:\n",
        "    delta = 0\n",
        "    iteraciones += 1\n",
        "    for s in estados:\n",
        "        if s not in mapa.acciones.keys():\n",
        "            continue\n",
        "        v = V[s]\n",
        "        max_val = float(\"-inf\")\n",
        "        for accion in mapa.acciones[s]:\n",
        "            mapa.fijar_estado(s)\n",
        "            r = mapa.mover(accion)\n",
        "            val = r + gamma * V[mapa.estado_actual()] # acciones deterministicas (probabilidad 1 o 0)\n",
        "            if val > max_val:\n",
        "                max_val = val\n",
        "        V[s] = max_val\n",
        "        delta = max(delta,abs(v-V[s]))\n",
        "\n",
        "    if delta < epsilon or iteraciones >= repeticiones:\n",
        "        mostrar_valores(V,mapa)\n",
        "        break"
      ]
    },
    {
      "cell_type": "code",
      "execution_count": null,
      "metadata": {
        "id": "QxclWu1vaBSg"
      },
      "outputs": [],
      "source": [
        "# Ejemplo 1 - greedy\n",
        "pi = {}\n",
        "for s in mapa.acciones.keys():\n",
        "    max_val = float(\"-inf\")\n",
        "    for accion in mapa.acciones[s]:\n",
        "        mapa.fijar_estado(s)\n",
        "        r = mapa.mover(accion)\n",
        "        val = r + V[mapa.estado_actual()]\n",
        "        if val > max_val :\n",
        "            max_val = val\n",
        "            max_accion = accion\n",
        "\n",
        "    pi[s] = max_accion\n",
        "\n",
        "mostrar_politica(pi,mapa)"
      ]
    },
    {
      "cell_type": "code",
      "execution_count": null,
      "metadata": {
        "collapsed": true,
        "id": "NZjgrei6aBSi"
      },
      "outputs": [],
      "source": [
        "# Ejemplo 2 - Policy Iteration (configuración)\n",
        "gamma = 0.9\n",
        "epsilon = 1e-3\n",
        "total_acciones = ('U','D','L','R')\n",
        "mapa = mapa_con_costo()\n",
        "estados = mapa.todos_estados()\n",
        "V = {}\n",
        "pi = {}\n",
        "for fila in range(mapa.alto):\n",
        "    for columna in range(mapa.ancho):\n",
        "        V[(fila,columna)] = 0.0\n",
        "\n",
        "for s in mapa.acciones.keys():\n",
        "    pi[s] = np.random.choice(total_acciones)"
      ]
    },
    {
      "cell_type": "code",
      "execution_count": null,
      "metadata": {
        "id": "5fdmKdTUaBSi"
      },
      "outputs": [],
      "source": [
        "# Ejemplo 2 - Policy Iteration\n",
        "repeticiones = 10\n",
        "iteraciones = 0\n",
        "while True:\n",
        "    iteraciones += 1\n",
        "# Evaluación de política\n",
        "    while True :\n",
        "        delta = 0\n",
        "        v_anterior = 0.0\n",
        "        for s in estados:\n",
        "            if s not in pi:\n",
        "                continue\n",
        "            mapa.fijar_estado(s)\n",
        "            v_anterior = V[s]\n",
        "            accion = pi[s]\n",
        "            r = mapa.mover(accion)\n",
        "            nuevo_estado = mapa.estado_actual()\n",
        "            V[s] = r + gamma * V[nuevo_estado]\n",
        "            delta = max(delta,abs(v_anterior - V[s]))\n",
        "        if delta < epsilon :\n",
        "            break\n",
        "# Mejora de politica\n",
        "    politica_estable = True\n",
        "    for s in estados:\n",
        "        if s not in pi:\n",
        "            continue\n",
        "        accion_anterior = pi[s]\n",
        "        max_val = float(\"-inf\")\n",
        "        for accion in mapa.acciones[s]:\n",
        "            mapa.fijar_estado(s)\n",
        "            r = mapa.mover(accion)\n",
        "            nuevo_estado = mapa.estado_actual()\n",
        "            val = r + gamma * V[nuevo_estado]\n",
        "            if val > max_val :\n",
        "                max_val = val\n",
        "                max_accion = accion\n",
        "        pi[s] = max_accion\n",
        "        if accion_anterior != pi[s] :\n",
        "            politica_estable = False\n",
        "    if politica_estable == True or iteraciones >= repeticiones:\n",
        "        mostrar_politica(pi,mapa)\n",
        "        break"
      ]
    },
    {
      "cell_type": "code",
      "execution_count": null,
      "metadata": {
        "id": "6pOkHo7SaBSj"
      },
      "outputs": [],
      "source": [
        "# Ejemplo 3 - Q-learning\n",
        "# OJO con exploración - explotación : este agente se estanca en un óptimo local\n",
        "repeticiones = 10\n",
        "inicio = (2,0)\n",
        "alpha = 0.8\n",
        "gamma = 0.9\n",
        "total_acciones = ('U','D','L','R')\n",
        "mapa = mapa_con_costo()\n",
        "estados = mapa.todos_estados()\n",
        "Q = {}\n",
        "pi = {}\n",
        "timeout = 100\n",
        "for s in estados:\n",
        "    for a in total_acciones:\n",
        "        Q[(s,a)] = 0.0\n",
        "\n",
        "s = inicio\n",
        "for n in range(repeticiones):\n",
        "    k = 0\n",
        "    mapa.fijar_estado(inicio)\n",
        "    a = np.random.choice(mapa.acciones[inicio])\n",
        "    print(s)\n",
        "    while not mapa.es_final(s) and k < timeout:\n",
        "        s = mapa.estado_actual()\n",
        "        r = mapa.recompensas[s]\n",
        "        mayorQ = -float(\"inf\")\n",
        "        for a in mapa.acciones[s]:\n",
        "            mapa.mover(a)\n",
        "            sn = mapa.estado_actual()\n",
        "            if Q[(sn,a)] > mayorQ:\n",
        "                mayorQ = Q[(sn,a)]\n",
        "                accion = a\n",
        "            mapa.deshacer(a)\n",
        "        Q[(s,a)] += alpha*(r + gamma*mayorQ - Q[(s,a)])\n",
        "        mapa.mover(accion)\n",
        "        pi[s] = accion\n",
        "        k += 1\n",
        "mostrar_politica(pi,mapa)"
      ]
    }
  ],
  "metadata": {
    "kernelspec": {
      "display_name": "Python 2",
      "language": "python",
      "name": "python2"
    },
    "language_info": {
      "codemirror_mode": {
        "name": "ipython",
        "version": 2
      },
      "file_extension": ".py",
      "mimetype": "text/x-python",
      "name": "python",
      "nbconvert_exporter": "python",
      "pygments_lexer": "ipython2",
      "version": "2.7.14"
    },
    "colab": {
      "provenance": []
    }
  },
  "nbformat": 4,
  "nbformat_minor": 0
}